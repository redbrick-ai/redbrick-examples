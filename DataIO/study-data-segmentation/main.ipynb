{
 "cells": [
  {
   "cell_type": "code",
   "execution_count": 17,
   "metadata": {},
   "outputs": [],
   "source": [
    "import os\n",
    "import json\n",
    "import nibabel\n",
    "import shutil"
   ]
  },
  {
   "cell_type": "code",
   "execution_count": 20,
   "metadata": {},
   "outputs": [],
   "source": [
    "mapping = {\n",
    "    \"1\": \"necrosis\",\n",
    "    \"2\": \"edema\",\n",
    "    \"3\": \"non-enhancing tumor\",\n",
    "    \"4\": \"enhancing tumor\"\n",
    "}\n",
    "with open(\"mapping.json\", \"w+\") as file:\n",
    "    json.dump(mapping, file, indent=2)"
   ]
  },
  {
   "cell_type": "code",
   "execution_count": 33,
   "metadata": {},
   "outputs": [],
   "source": [
    "root = \"brain-brats-study\"\n",
    "dir = \"NIFTI_images\"\n",
    "items = []\n",
    "for study in os.listdir(dir):\n",
    "    if not os.path.isdir(os.path.join(dir, study)):\n",
    "        continue\n",
    "    \n",
    "    series = os.listdir(os.path.join(dir, study))\n",
    "    items += [\n",
    "        {\n",
    "            \"name\": study,\n",
    "            \"items\": [\n",
    "                os.path.join(root, dir, study, file) for file in series\n",
    "            ],\n",
    "            \"segmentations\": [\n",
    "                os.path.join(root, \"NIFTI_segmentations\", study, file[:-7] + \"_seg.nii.gz\") for file in series\n",
    "            ]\n",
    "        }\n",
    "    ]"
   ]
  },
  {
   "cell_type": "code",
   "execution_count": 34,
   "metadata": {},
   "outputs": [],
   "source": [
    "with open(\"items.json\", \"w+\") as file:\n",
    "    json.dump(items, file, indent=2)"
   ]
  },
  {
   "cell_type": "code",
   "execution_count": null,
   "metadata": {},
   "outputs": [],
   "source": []
  }
 ],
 "metadata": {
  "kernelspec": {
   "display_name": "Python 3.7.0 64-bit",
   "language": "python",
   "name": "python3"
  },
  "language_info": {
   "codemirror_mode": {
    "name": "ipython",
    "version": 3
   },
   "file_extension": ".py",
   "mimetype": "text/x-python",
   "name": "python",
   "nbconvert_exporter": "python",
   "pygments_lexer": "ipython3",
   "version": "3.7.0"
  },
  "orig_nbformat": 4,
  "vscode": {
   "interpreter": {
    "hash": "8eaac75e0f6bac40e1bd8a4a6235d6e3e9ecfdd9d25e764a66c3f23bade002b7"
   }
  }
 },
 "nbformat": 4,
 "nbformat_minor": 2
}
