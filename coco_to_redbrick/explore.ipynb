{
 "cells": [
  {
   "cell_type": "code",
   "execution_count": 25,
   "metadata": {},
   "outputs": [],
   "source": [
    "\"\"\"\n",
    "Convert COCO RLE annotations to RedBrick AI mask format. \n",
    "\n",
    "Requires\n",
    "-----------\n",
    "pycocotools https://github.com/cocodataset/cocoapi\n",
    "\"\"\"\n",
    "import pycocotools.mask as mask_util\n",
    "import matplotlib.pyplot as plt\n",
    "plt.rcParams[\"figure.dpi\"] = 300\n",
    "import numpy as np\n",
    "import redbrick"
   ]
  },
  {
   "cell_type": "code",
   "execution_count": 26,
   "metadata": {},
   "outputs": [],
   "source": [
    "# Standard SDK setup\n",
    "api_key = \"TODO\"\n",
    "org_id = \"TODO\"\n",
    "project_id = \"TODO\"\n",
    "url = \"https://api.redbrickai.com\"\n",
    "\n",
    "project = redbrick.get_project(api_key, url, org_id, project_id)"
   ]
  },
  {
   "cell_type": "code",
   "execution_count": 20,
   "metadata": {},
   "outputs": [],
   "source": [
    "# Read in your coco annotations\n",
    "import json\n",
    "labels = {}\n",
    "coco_annotations_file = \"TODO.json\"\n",
    "with open(coco_annotations_file, \"r\") as file:\n",
    "    labels = json.load(file)"
   ]
  },
  {
   "cell_type": "code",
   "execution_count": 21,
   "metadata": {},
   "outputs": [],
   "source": [
    "def convert_to_masks(labels):\n",
    "    \"\"\"\n",
    "    Converts COCO annotations to 2D, single channel mask.\n",
    "\n",
    "    Parameters\n",
    "    -------------\n",
    "    labels: dict\n",
    "        Dictionary containing annotations in COCO format, with segmentation labels\n",
    "        in RLE format. \n",
    "    \n",
    "    Returns\n",
    "    -------------\n",
    "    id_to_mask: dict\n",
    "        id_to_mask {image_id: mask}. Contains a mapping from image_id\n",
    "        to the numpy mask. The mask is a numpy array of shape (m, n, 1), with\n",
    "        array values equal to category_id. \n",
    "    \"\"\"\n",
    "    id_to_mask = {}\n",
    "    for label in labels[\"annotations\"]:\n",
    "        mask = mask_util.decode(label[\"segmentation\"])[:, :]\n",
    "        mask *= label[\"category_id\"]\n",
    "\n",
    "        if label[\"image_id\"] in id_to_mask:\n",
    "            idxs = np.where(mask > 0)\n",
    "            id_to_mask[label[\"image_id\"]][idxs] = mask[idxs]\n",
    "        else:\n",
    "            id_to_mask[label[\"image_id\"]] = mask\n",
    "    \n",
    "    return id_to_mask\n",
    "\n",
    "def make_color_mask(mask, class_id_map, taxonomy):\n",
    "    \"\"\"\n",
    "    Creates a color mask from a single channel mask. \n",
    "\n",
    "    Parameters\n",
    "    ------------\n",
    "    mask: np.ndarray (m,n,1)\n",
    "        Single channel numpy mask\n",
    "    \n",
    "    class_id_map: dict\n",
    "        Maps from {class_id: [r, g, b]}. Modifies in-place. \n",
    "    \n",
    "    Returns\n",
    "    ------------\n",
    "    color_mask: np.ndarray (m, n, 3)\n",
    "        Three channel RGB numpy mask\n",
    "    \"\"\"\n",
    "    color_mask = np.zeros((mask.shape[0], mask.shape[1], 3))\n",
    "    class_ids = np.unique(mask)  \n",
    "    for i in class_ids:\n",
    "        if i == 0:\n",
    "            # don't add color to background\n",
    "            continue\n",
    "        indexes = np.where(mask == i)\n",
    "        color = np.array(cm.tab10(int(i - 1)))[0:3] * 255\n",
    "        color = color.astype(np.uint8)\n",
    "        color_mask[indexes] = color\n",
    "\n",
    "        # update class_id_map\n",
    "        class_id_map[taxonomy[i]] = color\n",
    "\n",
    "    return color_mask\n",
    "\n",
    "def create_taxonomy(labels):\n",
    "    \"\"\"\n",
    "    Creates taxonomy object from COCO annotations. \n",
    "\n",
    "    Parameters\n",
    "    -------------\n",
    "    labels: dict\n",
    "        Dictionary containing COCO annotations. \n",
    "    \n",
    "    Returns\n",
    "    -------------\n",
    "    taxonomy: dict\n",
    "        Mapping from class_id to category_name. \n",
    "    \"\"\"\n",
    "    taxonomy = {}\n",
    "    for category in labels[\"categories\"]:\n",
    "        taxonomy[category[\"id\"]] = category[\"name\"]\n",
    "    \n",
    "    return taxonomy\n"
   ]
  },
  {
   "cell_type": "markdown",
   "metadata": {},
   "source": [
    "## Convert RLE annotations to masks, and save locally in RBAI format"
   ]
  },
  {
   "cell_type": "code",
   "execution_count": 27,
   "metadata": {},
   "outputs": [
    {
     "name": "stderr",
     "output_type": "stream",
     "text": [
      "  0%|          | 0/1 [00:00<?, ?it/s]"
     ]
    },
    {
     "name": "stdout",
     "output_type": "stream",
     "text": [
      "\u001b[34m[INFO]: \u001b[0m Creating datapoints\n"
     ]
    },
    {
     "name": "stderr",
     "output_type": "stream",
     "text": [
      "100%|██████████| 1/1 [00:00<00:00,  1.29it/s]\n",
      "  0%|          | 0/1 [00:00<?, ?it/s]"
     ]
    },
    {
     "name": "stdout",
     "output_type": "stream",
     "text": [
      "\u001b[34m[INFO]: \u001b[0m Creating datapoints\n"
     ]
    },
    {
     "name": "stderr",
     "output_type": "stream",
     "text": [
      "100%|██████████| 1/1 [00:01<00:00,  1.15s/it]\n"
     ]
    }
   ],
   "source": [
    "from matplotlib import cm\n",
    "\n",
    "# required for running in jupyter notebook\n",
    "# https://docs.redbrickai.com/python-sdk/sdk-overview#running-inside-of-a-jupyter-notebook\n",
    "import nest_asyncio\n",
    "nest_asyncio.apply()\n",
    "\n",
    "# convert to masks\n",
    "id_to_mask = convert_to_masks(labels)\n",
    "\n",
    "# create taxonomy object\n",
    "taxonomy = create_taxonomy(labels)\n",
    "\n",
    "# create datapoint_map file\n",
    "datapoint_map = {}\n",
    "for image in labels[\"images\"]:\n",
    "    mask_name = \"%s.png\" % image[\"id\"]\n",
    "    datapoint_map[mask_name] = image[\"file_name\"]\n",
    "\n",
    "# class_id_map object\n",
    "class_id_map = {}\n",
    "\n",
    "# save masks locally\n",
    "for id in id_to_mask:\n",
    "    mask = id_to_mask[id]\n",
    "    color_mask = make_color_mask(mask, class_id_map, taxonomy)\n",
    "    color_mask = color_mask.astype(np.uint8)\n",
    "    project.upload.create_datapoint_from_masks(\n",
    "        redbrick.StorageMethod.REDBRICK, color_mask, class_id_map, datapoint_map[\"%s.png\" % id]\n",
    "    )"
   ]
  },
  {
   "cell_type": "code",
   "execution_count": null,
   "metadata": {},
   "outputs": [],
   "source": []
  },
  {
   "cell_type": "code",
   "execution_count": null,
   "metadata": {},
   "outputs": [],
   "source": []
  }
 ],
 "metadata": {
  "interpreter": {
   "hash": "aee8b7b246df8f9039afb4144a1f6fd8d2ca17a180786b69acc140d282b71a49"
  },
  "kernelspec": {
   "display_name": "Python 3.9.1 64-bit",
   "language": "python",
   "name": "python3"
  },
  "language_info": {
   "codemirror_mode": {
    "name": "ipython",
    "version": 3
   },
   "file_extension": ".py",
   "mimetype": "text/x-python",
   "name": "python",
   "nbconvert_exporter": "python",
   "pygments_lexer": "ipython3",
   "version": "3.7.0"
  },
  "orig_nbformat": 4
 },
 "nbformat": 4,
 "nbformat_minor": 2
}
